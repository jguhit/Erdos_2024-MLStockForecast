{
 "cells": [
  {
   "cell_type": "code",
   "execution_count": 45,
   "id": "3434cb1c-27b0-4837-b26b-ae67fc26cfdc",
   "metadata": {},
   "outputs": [],
   "source": [
    "import yfinance as yahooFinance\n",
    "import datetime"
   ]
  },
  {
   "cell_type": "markdown",
   "id": "35c36062-854f-4fce-a4e7-5586a624e656",
   "metadata": {},
   "source": [
    "## Getting Apple Financial History (Tec)"
   ]
  },
  {
   "cell_type": "code",
   "execution_count": 46,
   "id": "710d2e4a-3259-467a-9fac-789476ef7931",
   "metadata": {},
   "outputs": [],
   "source": [
    "Apple_financial_info = yahooFinance.Ticker(\"AAPL\")\n",
    "\n",
    "startDate = datetime.datetime(2019, 3, 1)\n",
    "endDate = datetime.datetime(2024, 3, 31)\n",
    "Apple_financial_info.history(start=startDate, end=endDate).to_csv('Apple_stock.csv')\n",
    "\n"
   ]
  },
  {
   "cell_type": "markdown",
   "id": "ea889fd7-6693-4856-b324-c48030e40cf4",
   "metadata": {},
   "source": [
    "## Getting Accenture Financial History (Tec)"
   ]
  },
  {
   "cell_type": "code",
   "execution_count": 47,
   "id": "f71f79bb-fe0e-4576-9292-e52f579b9c41",
   "metadata": {},
   "outputs": [],
   "source": [
    "Accenture_financial_info = yahooFinance.Ticker(\"ACN\")\n",
    "\n",
    "startDate = datetime.datetime(2019, 3, 1)\n",
    "endDate = datetime.datetime(2024, 3, 31)\n",
    "Accenture_financial_info.history(start=startDate, end=endDate).to_csv('Accenture_stock.csv')\n"
   ]
  },
  {
   "cell_type": "markdown",
   "id": "91ee08d7-5ea6-46cf-a3ca-8c009b3cff15",
   "metadata": {},
   "source": [
    "## Getting Aon Financial History (Finance)"
   ]
  },
  {
   "cell_type": "code",
   "execution_count": 49,
   "id": "4e3f29c1-cefd-471b-af49-c1333b426829",
   "metadata": {},
   "outputs": [],
   "source": [
    "Aon_financial_info = yahooFinance.Ticker(\"AON\")\n",
    "\n",
    "startDate = datetime.datetime(2019, 3, 1)\n",
    "endDate = datetime.datetime(2024, 3, 31)\n",
    "Aon_financial_info.history(start=startDate, end=endDate).to_csv('Aon_stock.csv')"
   ]
  },
  {
   "cell_type": "markdown",
   "id": "c1279763-5f34-4e46-9a80-62213aaca05b",
   "metadata": {},
   "source": [
    "## Getting Blackstone Financial History (Finance)"
   ]
  },
  {
   "cell_type": "code",
   "execution_count": 56,
   "id": "4166c5a0-b5c3-4003-a16c-30e84c659e7f",
   "metadata": {},
   "outputs": [],
   "source": [
    "Blackstone_financial_info = yahooFinance.Ticker(\"BX\")\n",
    "\n",
    "startDate = datetime.datetime(2019, 3, 1)\n",
    "endDate = datetime.datetime(2024, 3, 31)\n",
    "Blackstone_financial_info.history(start=startDate, end=endDate).to_csv('Black_Stone_stock.csv')"
   ]
  },
  {
   "cell_type": "markdown",
   "id": "492fbf2a-0fa6-43dd-acc0-435b3e89175a",
   "metadata": {},
   "source": [
    "## Getting Bank of America Financial History (Finance)"
   ]
  },
  {
   "cell_type": "code",
   "execution_count": 52,
   "id": "1f4a48f4-3605-4984-8569-bdb44e51fd4c",
   "metadata": {},
   "outputs": [],
   "source": [
    "Bank_of_America_financial_info = yahooFinance.Ticker(\"BAC\")\n",
    "\n",
    "startDate = datetime.datetime(2019, 3, 1)\n",
    "endDate = datetime.datetime(2024, 3, 31)\n",
    "Bank_of_America_financial_info.history(start=startDate, end=endDate).to_csv('Bank_of_America_stock.csv')"
   ]
  },
  {
   "cell_type": "markdown",
   "id": "9430d47e-35d5-4ba8-8267-dd8cebd64f39",
   "metadata": {},
   "source": [
    "## Getting Biogen Financial History (Health Care)"
   ]
  },
  {
   "cell_type": "code",
   "execution_count": 54,
   "id": "668d302d-cf03-4e7d-a422-ea9c5a04d298",
   "metadata": {},
   "outputs": [],
   "source": [
    "Biogen_financial_info = yahooFinance.Ticker(\"BIIB\")\n",
    "\n",
    "startDate = datetime.datetime(2019, 3, 1)\n",
    "endDate = datetime.datetime(2024, 3, 31)\n",
    "Biogen_financial_info.history(start=startDate, end=endDate).to_csv('Biogen_stock.csv')"
   ]
  },
  {
   "cell_type": "markdown",
   "id": "f92cb051-898a-4124-9c38-9ce7fb552738",
   "metadata": {},
   "source": [
    "## Getting Bio-Techne Financial History (Health Care)"
   ]
  },
  {
   "cell_type": "code",
   "execution_count": 55,
   "id": "08f5a5bb-4e5d-4862-8a0d-f8419e72e00a",
   "metadata": {},
   "outputs": [],
   "source": [
    "Bio_Tech_financial_info = yahooFinance.Ticker(\"TECH\")\n",
    "\n",
    "startDate = datetime.datetime(2019, 3, 1)\n",
    "endDate = datetime.datetime(2024, 3, 31)\n",
    "Bio_Tech_financial_info.history(start=startDate, end=endDate).to_csv('BioTech_stock.csv')"
   ]
  },
  {
   "cell_type": "code",
   "execution_count": null,
   "id": "84134deb-a454-4ac0-b6f7-c573ae46ab6d",
   "metadata": {},
   "outputs": [],
   "source": []
  }
 ],
 "metadata": {
  "kernelspec": {
   "display_name": "Python 3 (ipykernel)",
   "language": "python",
   "name": "python3"
  },
  "language_info": {
   "codemirror_mode": {
    "name": "ipython",
    "version": 3
   },
   "file_extension": ".py",
   "mimetype": "text/x-python",
   "name": "python",
   "nbconvert_exporter": "python",
   "pygments_lexer": "ipython3",
   "version": "3.11.5"
  }
 },
 "nbformat": 4,
 "nbformat_minor": 5
}
