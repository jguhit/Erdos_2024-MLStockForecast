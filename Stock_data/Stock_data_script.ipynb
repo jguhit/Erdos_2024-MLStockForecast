{
 "cells": [
  {
   "cell_type": "code",
   "execution_count": 1,
   "id": "3434cb1c-27b0-4837-b26b-ae67fc26cfdc",
   "metadata": {},
   "outputs": [],
   "source": [
    "import yfinance as yahooFinance\n",
    "import datetime"
   ]
  },
  {
   "cell_type": "markdown",
   "id": "35c36062-854f-4fce-a4e7-5586a624e656",
   "metadata": {},
   "source": [
    "## Getting Apple Financial History (Tec)"
   ]
  },
  {
   "cell_type": "code",
   "execution_count": 2,
   "id": "710d2e4a-3259-467a-9fac-789476ef7931",
   "metadata": {},
   "outputs": [],
   "source": [
    "Apple_financial_info = yahooFinance.Ticker(\"AAPL\")\n",
    "\n",
    "startDate = datetime.datetime(2019, 3, 1)\n",
    "endDate = datetime.datetime(2024, 3, 31)\n",
    "Apple_financial_info.history(start=startDate, end=endDate).to_csv('Apple_stock.csv')\n",
    "\n"
   ]
  },
  {
   "cell_type": "markdown",
   "id": "339b5929-8d64-491a-9689-15b8a910ff22",
   "metadata": {},
   "source": [
    "## Getting Microsoft Financial History (Tec)"
   ]
  },
  {
   "cell_type": "code",
   "execution_count": 3,
   "id": "ce30ad69-ea91-4b1d-938b-574addd83c02",
   "metadata": {},
   "outputs": [],
   "source": [
    "Microsoft_financial_info = yahooFinance.Ticker(\"MSFT\")\n",
    "\n",
    "startDate = datetime.datetime(2019, 3, 1)\n",
    "endDate = datetime.datetime(2024, 3, 31)\n",
    "Microsoft_financial_info.history(start=startDate, end=endDate).to_csv('Microsoft_stock.csv')\n"
   ]
  },
  {
   "cell_type": "markdown",
   "id": "fa827fc8-5ee6-4df8-ad14-c1ff9804093a",
   "metadata": {},
   "source": [
    "## Getting Meta Financial History (Tec)"
   ]
  },
  {
   "cell_type": "code",
   "execution_count": 4,
   "id": "3d1249a2-addc-4f84-a033-3c6a77aab0af",
   "metadata": {},
   "outputs": [],
   "source": [
    "Meta_financial_info = yahooFinance.Ticker(\"META\")\n",
    "\n",
    "startDate = datetime.datetime(2019, 3, 1)\n",
    "endDate = datetime.datetime(2024, 3, 31)\n",
    "Meta_financial_info.history(start=startDate, end=endDate).to_csv('Meta_stock.csv')\n"
   ]
  },
  {
   "cell_type": "markdown",
   "id": "11d3789a-b227-4301-aeb3-b2d6f4b1ed92",
   "metadata": {},
   "source": [
    "## Getting Google Financial History (Tec)"
   ]
  },
  {
   "cell_type": "code",
   "execution_count": 5,
   "id": "5640782d-25bd-493d-af6d-c0903820d9b9",
   "metadata": {},
   "outputs": [],
   "source": [
    "Google_financial_info = yahooFinance.Ticker(\"GOOGL\")\n",
    "\n",
    "startDate = datetime.datetime(2019, 3, 1)\n",
    "endDate = datetime.datetime(2024, 3, 31)\n",
    "Google_financial_info.history(start=startDate, end=endDate).to_csv('Google_stock.csv')\n"
   ]
  },
  {
   "cell_type": "markdown",
   "id": "eeebe480-f0b5-48a4-ba20-33329678b1f7",
   "metadata": {},
   "source": [
    "## Getting Nvidia Financial History (Tec)"
   ]
  },
  {
   "cell_type": "code",
   "execution_count": 6,
   "id": "dba1dfb8-a3e6-4807-9c06-318aa829ce3a",
   "metadata": {},
   "outputs": [],
   "source": [
    "Nvidia_financial_info = yahooFinance.Ticker(\"NVDA\")\n",
    "\n",
    "startDate = datetime.datetime(2019, 3, 1)\n",
    "endDate = datetime.datetime(2024, 3, 31)\n",
    "Nvidia_financial_info.history(start=startDate, end=endDate).to_csv('Nvidia_stock.csv')\n"
   ]
  },
  {
   "cell_type": "markdown",
   "id": "06e8d5ea-6b7f-4400-8f21-a2adfc7de60b",
   "metadata": {},
   "source": [
    "## Getting Broadcom Financial History (Tec)"
   ]
  },
  {
   "cell_type": "code",
   "execution_count": 7,
   "id": "b42894d5-ac32-4040-8e09-7b494da35c92",
   "metadata": {},
   "outputs": [],
   "source": [
    "Broadcom_financial_info = yahooFinance.Ticker(\"AVGO\")\n",
    "\n",
    "startDate = datetime.datetime(2019, 3, 1)\n",
    "endDate = datetime.datetime(2024, 3, 31)\n",
    "Broadcom_financial_info.history(start=startDate, end=endDate).to_csv('Broadcom_stock.csv')\n"
   ]
  },
  {
   "cell_type": "markdown",
   "id": "f233d390-8634-4f27-b387-97c2a8c5cb42",
   "metadata": {},
   "source": [
    "## Getting Oracle Financial History (Tec)"
   ]
  },
  {
   "cell_type": "code",
   "execution_count": 8,
   "id": "fcbd10d0-f896-4544-b1d9-d29a45ff71c2",
   "metadata": {},
   "outputs": [],
   "source": [
    "Oracle_financial_info = yahooFinance.Ticker(\"ORCL\")\n",
    "\n",
    "startDate = datetime.datetime(2019, 3, 1)\n",
    "endDate = datetime.datetime(2024, 3, 31)\n",
    "Oracle_financial_info.history(start=startDate, end=endDate).to_csv('Oracle_stock.csv')\n"
   ]
  },
  {
   "cell_type": "markdown",
   "id": "ea889fd7-6693-4856-b324-c48030e40cf4",
   "metadata": {},
   "source": [
    "## Getting Accenture Financial History (Tec)"
   ]
  },
  {
   "cell_type": "code",
   "execution_count": 9,
   "id": "f71f79bb-fe0e-4576-9292-e52f579b9c41",
   "metadata": {},
   "outputs": [],
   "source": [
    "Accenture_financial_info = yahooFinance.Ticker(\"ACN\")\n",
    "\n",
    "startDate = datetime.datetime(2019, 3, 1)\n",
    "endDate = datetime.datetime(2024, 3, 31)\n",
    "Accenture_financial_info.history(start=startDate, end=endDate).to_csv('Accenture_stock.csv')\n"
   ]
  },
  {
   "cell_type": "markdown",
   "id": "492fbf2a-0fa6-43dd-acc0-435b3e89175a",
   "metadata": {},
   "source": [
    "## Getting Bank of America Financial History (Finance)"
   ]
  },
  {
   "cell_type": "code",
   "execution_count": 10,
   "id": "1f4a48f4-3605-4984-8569-bdb44e51fd4c",
   "metadata": {},
   "outputs": [],
   "source": [
    "Bank_of_America_financial_info = yahooFinance.Ticker(\"BAC\")\n",
    "\n",
    "startDate = datetime.datetime(2019, 3, 1)\n",
    "endDate = datetime.datetime(2024, 3, 31)\n",
    "Bank_of_America_financial_info.history(start=startDate, end=endDate).to_csv('Bank_of_America_stock.csv')"
   ]
  },
  {
   "cell_type": "markdown",
   "id": "16115f41-bcbc-4af5-a3c8-458c54e73d85",
   "metadata": {},
   "source": [
    "## Getting JP Morgan Financial History (Finance)"
   ]
  },
  {
   "cell_type": "code",
   "execution_count": 11,
   "id": "2fb92feb-3834-4c9e-8dee-63f666146679",
   "metadata": {},
   "outputs": [],
   "source": [
    "JP_Morgan_financial_info = yahooFinance.Ticker(\"JPM\")\n",
    "\n",
    "startDate = datetime.datetime(2019, 3, 1)\n",
    "endDate = datetime.datetime(2024, 3, 31)\n",
    "JP_Morgan_financial_info.history(start=startDate, end=endDate).to_csv('JP_Morgan_stock.csv')"
   ]
  },
  {
   "cell_type": "markdown",
   "id": "f05b3ec3-cd26-4ee7-aeba-5437d8031bf3",
   "metadata": {},
   "source": [
    "## Getting Visa Inc Financial History (Finance)"
   ]
  },
  {
   "cell_type": "code",
   "execution_count": 12,
   "id": "31a267ce-9291-42af-8e0d-d5e35c032da6",
   "metadata": {},
   "outputs": [],
   "source": [
    "Visa_financial_info = yahooFinance.Ticker(\"V\")\n",
    "\n",
    "startDate = datetime.datetime(2019, 3, 1)\n",
    "endDate = datetime.datetime(2024, 3, 31)\n",
    "Visa_financial_info.history(start=startDate, end=endDate).to_csv('Visa_stock.csv')"
   ]
  },
  {
   "cell_type": "markdown",
   "id": "493754a1-f58e-4fac-b295-a20a791c82eb",
   "metadata": {},
   "source": [
    "## Getting Citigroup Financial History (Finance)"
   ]
  },
  {
   "cell_type": "code",
   "execution_count": 13,
   "id": "decfb3a3-2b6f-4e49-8f63-3d493942daab",
   "metadata": {},
   "outputs": [],
   "source": [
    "Citigroup_financial_info = yahooFinance.Ticker(\"C\")\n",
    "\n",
    "startDate = datetime.datetime(2019, 3, 1)\n",
    "endDate = datetime.datetime(2024, 3, 31)\n",
    "Citigroup_financial_info.history(start=startDate, end=endDate).to_csv('Citigroup_stock.csv')"
   ]
  },
  {
   "cell_type": "markdown",
   "id": "b152bd40-baf3-4bd3-b41a-03f9305997d3",
   "metadata": {},
   "source": [
    "## Getting Birkshire Hathaway Inc Financial History (Finance)"
   ]
  },
  {
   "cell_type": "code",
   "execution_count": 14,
   "id": "fb69b750-61a8-4eda-907b-b60d7c151812",
   "metadata": {},
   "outputs": [],
   "source": [
    "Birkshire_financial_info = yahooFinance.Ticker(\"BRK-B\")\n",
    "\n",
    "startDate = datetime.datetime(2019, 3, 1)\n",
    "endDate = datetime.datetime(2024, 3, 31)\n",
    "Birkshire_financial_info.history(start=startDate, end=endDate).to_csv('Birkshire_stock.csv')"
   ]
  },
  {
   "cell_type": "markdown",
   "id": "f04782ab-b4b3-4770-a813-0e1ab947b3d7",
   "metadata": {},
   "source": [
    "## Getting Mastercard Inc Financial History (Finance)"
   ]
  },
  {
   "cell_type": "code",
   "execution_count": 15,
   "id": "98c76136-9d56-4d82-8aa2-7fb410fa892c",
   "metadata": {},
   "outputs": [],
   "source": [
    "Mastercard_financial_info = yahooFinance.Ticker(\"MA\")\n",
    "\n",
    "startDate = datetime.datetime(2019, 3, 1)\n",
    "endDate = datetime.datetime(2024, 3, 31)\n",
    "Mastercard_financial_info.history(start=startDate, end=endDate).to_csv('Mastercard_stock.csv')"
   ]
  },
  {
   "cell_type": "markdown",
   "id": "4ba01fe8-a051-4862-84eb-055ed71cb3a1",
   "metadata": {},
   "source": [
    "## Getting Wells Fargo Financial History (Finance)"
   ]
  },
  {
   "cell_type": "code",
   "execution_count": 16,
   "id": "9be2b7cf-fba8-464b-b9d6-0109a8f2213d",
   "metadata": {},
   "outputs": [],
   "source": [
    "Wells_Fargo_financial_info = yahooFinance.Ticker(\"WFC\")\n",
    "\n",
    "startDate = datetime.datetime(2019, 3, 1)\n",
    "endDate = datetime.datetime(2024, 3, 31)\n",
    "Wells_Fargo_financial_info.history(start=startDate, end=endDate).to_csv('Wells_Fargo_stock.csv')"
   ]
  },
  {
   "cell_type": "markdown",
   "id": "21043f1d-8b09-4eb2-aab9-b5c0177da39f",
   "metadata": {},
   "source": [
    "## Getting Goldman Sachs Financial History (Finance)"
   ]
  },
  {
   "cell_type": "code",
   "execution_count": 17,
   "id": "55ae2805-1fc8-431c-ab74-1d96c634b98c",
   "metadata": {},
   "outputs": [],
   "source": [
    "Goldman_Sachs_financial_info = yahooFinance.Ticker(\"GS\")\n",
    "\n",
    "startDate = datetime.datetime(2019, 3, 1)\n",
    "endDate = datetime.datetime(2024, 3, 31)\n",
    "Goldman_Sachs_financial_info.history(start=startDate, end=endDate).to_csv('Goldman_Sachs_stock.csv')"
   ]
  },
  {
   "cell_type": "markdown",
   "id": "91ee08d7-5ea6-46cf-a3ca-8c009b3cff15",
   "metadata": {},
   "source": [
    "## Getting Aon Financial History (Finance)"
   ]
  },
  {
   "cell_type": "code",
   "execution_count": 18,
   "id": "4e3f29c1-cefd-471b-af49-c1333b426829",
   "metadata": {},
   "outputs": [],
   "source": [
    "Aon_financial_info = yahooFinance.Ticker(\"AON\")\n",
    "\n",
    "startDate = datetime.datetime(2019, 3, 1)\n",
    "endDate = datetime.datetime(2024, 3, 31)\n",
    "Aon_financial_info.history(start=startDate, end=endDate).to_csv('Aon_stock.csv')"
   ]
  },
  {
   "cell_type": "markdown",
   "id": "c1279763-5f34-4e46-9a80-62213aaca05b",
   "metadata": {},
   "source": [
    "## Getting Blackstone Financial History (Finance)"
   ]
  },
  {
   "cell_type": "code",
   "execution_count": 19,
   "id": "4166c5a0-b5c3-4003-a16c-30e84c659e7f",
   "metadata": {},
   "outputs": [],
   "source": [
    "Blackstone_financial_info = yahooFinance.Ticker(\"BX\")\n",
    "\n",
    "startDate = datetime.datetime(2019, 3, 1)\n",
    "endDate = datetime.datetime(2024, 3, 31)\n",
    "Blackstone_financial_info.history(start=startDate, end=endDate).to_csv('Black_Stone_stock.csv')"
   ]
  },
  {
   "cell_type": "markdown",
   "id": "9430d47e-35d5-4ba8-8267-dd8cebd64f39",
   "metadata": {},
   "source": [
    "## Getting Johnson & Johnson Financial History (Health Care)"
   ]
  },
  {
   "cell_type": "code",
   "execution_count": 20,
   "id": "668d302d-cf03-4e7d-a422-ea9c5a04d298",
   "metadata": {},
   "outputs": [],
   "source": [
    "Johnson_and_Johnson_financial_info = yahooFinance.Ticker(\"JNJ\")\n",
    "\n",
    "startDate = datetime.datetime(2019, 3, 1)\n",
    "endDate = datetime.datetime(2024, 3, 31)\n",
    "Johnson_and_Johnson_financial_info.history(start=startDate, end=endDate).to_csv('Johnson_and_Johnson_stock.csv')"
   ]
  },
  {
   "cell_type": "markdown",
   "id": "55ddef74-ef78-4d4d-ab51-93d34e8510ed",
   "metadata": {},
   "source": [
    "## Getting UnitedHealth Group Inc Financial History (Health Care)"
   ]
  },
  {
   "cell_type": "code",
   "execution_count": 21,
   "id": "ad737156-e56c-420d-8927-9e36f8df38e4",
   "metadata": {},
   "outputs": [],
   "source": [
    "UnitedHealth_financial_info = yahooFinance.Ticker(\"UNH\")\n",
    "\n",
    "startDate = datetime.datetime(2019, 3, 1)\n",
    "endDate = datetime.datetime(2024, 3, 31)\n",
    "UnitedHealth_financial_info.history(start=startDate, end=endDate).to_csv('UnitedHealth.csv')"
   ]
  },
  {
   "cell_type": "markdown",
   "id": "de62466b-1858-457c-8052-85a46d997c14",
   "metadata": {},
   "source": [
    "## Getting Merck & Co Inc. Financial History (Health Care)"
   ]
  },
  {
   "cell_type": "code",
   "execution_count": 22,
   "id": "0ba95f21-82ff-485c-872d-e8c1c7425536",
   "metadata": {},
   "outputs": [],
   "source": [
    "Merck_financial_info = yahooFinance.Ticker(\"MRK\")\n",
    "\n",
    "startDate = datetime.datetime(2019, 3, 1)\n",
    "endDate = datetime.datetime(2024, 3, 31)\n",
    "Merck_financial_info.history(start=startDate, end=endDate).to_csv('Merck.csv')"
   ]
  },
  {
   "cell_type": "markdown",
   "id": "ec2d6c28-7e26-4e42-81fb-01737921a540",
   "metadata": {},
   "source": [
    "## Getting AbbVie Inc. Financial History (Health Care)"
   ]
  },
  {
   "cell_type": "code",
   "execution_count": 23,
   "id": "a51eb088-0c40-4699-92f6-611cf2557380",
   "metadata": {},
   "outputs": [],
   "source": [
    "AbbVie_financial_info = yahooFinance.Ticker(\"ABBV\")\n",
    "\n",
    "startDate = datetime.datetime(2019, 3, 1)\n",
    "endDate = datetime.datetime(2024, 3, 31)\n",
    "AbbVie_financial_info.history(start=startDate, end=endDate).to_csv('AbbVie.csv')"
   ]
  },
  {
   "cell_type": "markdown",
   "id": "fa2b6bfa-3cbe-438b-89be-2dbf1ac4aaff",
   "metadata": {},
   "source": [
    "## Getting Eli Lily and Company Financial History (Health Care)"
   ]
  },
  {
   "cell_type": "code",
   "execution_count": 24,
   "id": "6caa90d2-918d-4829-831e-7860eeedda94",
   "metadata": {},
   "outputs": [],
   "source": [
    "Eli_Lily_financial_info = yahooFinance.Ticker(\"LLY\")\n",
    "\n",
    "startDate = datetime.datetime(2019, 3, 1)\n",
    "endDate = datetime.datetime(2024, 3, 31)\n",
    "Eli_Lily_financial_info.history(start=startDate, end=endDate).to_csv('Eli_Lily.csv')"
   ]
  },
  {
   "cell_type": "markdown",
   "id": "d762cdf6-7c46-4a31-a977-7d37c7153e16",
   "metadata": {},
   "source": [
    "## Getting Pfizer Financial History (Health Care)"
   ]
  },
  {
   "cell_type": "code",
   "execution_count": 25,
   "id": "a396bc35-183c-442f-bc84-b903f2017128",
   "metadata": {},
   "outputs": [],
   "source": [
    "Pfizer_financial_info = yahooFinance.Ticker(\"PFE\")\n",
    "\n",
    "startDate = datetime.datetime(2019, 3, 1)\n",
    "endDate = datetime.datetime(2024, 3, 31)\n",
    "Pfizer_financial_info.history(start=startDate, end=endDate).to_csv('Pfizer.csv')"
   ]
  },
  {
   "cell_type": "markdown",
   "id": "ad3efb1d-e752-4cea-b250-ae4e42627012",
   "metadata": {},
   "source": [
    "## Getting Biogen Financial History (Health Care)"
   ]
  },
  {
   "cell_type": "code",
   "execution_count": 26,
   "id": "8cf5c9c3-8714-42ea-9f49-dbabf9507a0f",
   "metadata": {},
   "outputs": [],
   "source": [
    "Biogen_financial_info = yahooFinance.Ticker(\"BIIB\")\n",
    "\n",
    "startDate = datetime.datetime(2019, 3, 1)\n",
    "endDate = datetime.datetime(2024, 3, 31)\n",
    "Biogen_financial_info.history(start=startDate, end=endDate).to_csv('Biogen_stock.csv')"
   ]
  },
  {
   "cell_type": "markdown",
   "id": "f92cb051-898a-4124-9c38-9ce7fb552738",
   "metadata": {},
   "source": [
    "## Getting Bio-Techne Financial History (Health Care)"
   ]
  },
  {
   "cell_type": "code",
   "execution_count": 27,
   "id": "08f5a5bb-4e5d-4862-8a0d-f8419e72e00a",
   "metadata": {},
   "outputs": [],
   "source": [
    "Bio_Tech_financial_info = yahooFinance.Ticker(\"TECH\")\n",
    "\n",
    "startDate = datetime.datetime(2019, 3, 1)\n",
    "endDate = datetime.datetime(2024, 3, 31)\n",
    "Bio_Tech_financial_info.history(start=startDate, end=endDate).to_csv('BioTech_stock.csv')"
   ]
  },
  {
   "cell_type": "code",
   "execution_count": null,
   "id": "84134deb-a454-4ac0-b6f7-c573ae46ab6d",
   "metadata": {},
   "outputs": [],
   "source": []
  }
 ],
 "metadata": {
  "kernelspec": {
   "display_name": "Python 3 (ipykernel)",
   "language": "python",
   "name": "python3"
  },
  "language_info": {
   "codemirror_mode": {
    "name": "ipython",
    "version": 3
   },
   "file_extension": ".py",
   "mimetype": "text/x-python",
   "name": "python",
   "nbconvert_exporter": "python",
   "pygments_lexer": "ipython3",
   "version": "3.11.5"
  }
 },
 "nbformat": 4,
 "nbformat_minor": 5
}
