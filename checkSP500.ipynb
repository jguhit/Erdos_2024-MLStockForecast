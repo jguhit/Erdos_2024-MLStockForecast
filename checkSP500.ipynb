{
 "cells": [
  {
   "cell_type": "code",
   "execution_count": null,
   "metadata": {},
   "outputs": [
    {
     "name": "stderr",
     "output_type": "stream",
     "text": [
      "[*********************100%***********************]  1 of 1 completed"
     ]
    },
    {
     "name": "stdout",
     "output_type": "stream",
     "text": [
      "📊 S&P 500 Performance Analysis\n",
      "Validation Period (2022-03-15 - 2023-03-15):\n"
     ]
    },
    {
     "name": "stderr",
     "output_type": "stream",
     "text": [
      "\n"
     ]
    },
    {
     "ename": "TypeError",
     "evalue": "unsupported format string passed to Series.__format__",
     "output_type": "error",
     "traceback": [
      "\u001b[0;31m---------------------------------------------------------------------------\u001b[0m",
      "\u001b[0;31mTypeError\u001b[0m                                 Traceback (most recent call last)",
      "Cell \u001b[0;32mIn[3], line 32\u001b[0m\n\u001b[1;32m     30\u001b[0m \u001b[38;5;28mprint\u001b[39m(\u001b[38;5;124m\"\u001b[39m\u001b[38;5;124m📊 S&P 500 Performance Analysis\u001b[39m\u001b[38;5;124m\"\u001b[39m)\n\u001b[1;32m     31\u001b[0m \u001b[38;5;28mprint\u001b[39m(\u001b[38;5;124mf\u001b[39m\u001b[38;5;124m\"\u001b[39m\u001b[38;5;124mValidation Period (\u001b[39m\u001b[38;5;132;01m{\u001b[39;00mvalidation_start\u001b[38;5;132;01m}\u001b[39;00m\u001b[38;5;124m - \u001b[39m\u001b[38;5;132;01m{\u001b[39;00mvalidation_end\u001b[38;5;132;01m}\u001b[39;00m\u001b[38;5;124m):\u001b[39m\u001b[38;5;124m\"\u001b[39m)\n\u001b[0;32m---> 32\u001b[0m \u001b[38;5;28mprint\u001b[39m(\u001b[38;5;124mf\u001b[39m\u001b[38;5;124m\"\u001b[39m\u001b[38;5;124m   - Open: \u001b[39m\u001b[38;5;132;01m{\u001b[39;00mvalidation_open\u001b[38;5;132;01m:\u001b[39;00m\u001b[38;5;124m.2f\u001b[39m\u001b[38;5;132;01m}\u001b[39;00m\u001b[38;5;124m, Close: \u001b[39m\u001b[38;5;132;01m{\u001b[39;00mvalidation_close\u001b[38;5;132;01m:\u001b[39;00m\u001b[38;5;124m.2f\u001b[39m\u001b[38;5;132;01m}\u001b[39;00m\u001b[38;5;124m\"\u001b[39m)\n\u001b[1;32m     33\u001b[0m \u001b[38;5;28mprint\u001b[39m(\u001b[38;5;124mf\u001b[39m\u001b[38;5;124m\"\u001b[39m\u001b[38;5;124m   - Growth: \u001b[39m\u001b[38;5;132;01m{\u001b[39;00mvalidation_growth\u001b[38;5;132;01m:\u001b[39;00m\u001b[38;5;124m.2f\u001b[39m\u001b[38;5;132;01m}\u001b[39;00m\u001b[38;5;124m%\u001b[39m\u001b[38;5;124m\"\u001b[39m)\n\u001b[1;32m     35\u001b[0m \u001b[38;5;28mprint\u001b[39m(\u001b[38;5;124mf\u001b[39m\u001b[38;5;124m\"\u001b[39m\u001b[38;5;130;01m\\n\u001b[39;00m\u001b[38;5;124mTest Period (\u001b[39m\u001b[38;5;132;01m{\u001b[39;00mtest_start\u001b[38;5;132;01m}\u001b[39;00m\u001b[38;5;124m - \u001b[39m\u001b[38;5;132;01m{\u001b[39;00mtest_end\u001b[38;5;132;01m}\u001b[39;00m\u001b[38;5;124m):\u001b[39m\u001b[38;5;124m\"\u001b[39m)\n",
      "\u001b[0;31mTypeError\u001b[0m: unsupported format string passed to Series.__format__"
     ]
    }
   ],
   "source": [
    "import yfinance as yf\n",
    "import pandas as pd\n",
    "\n",
    "# Define the S&P 500 ticker\n",
    "ticker = \"^GSPC\"\n",
    "\n",
    "# Define date ranges for validation and test periods\n",
    "validation_start = \"2022-03-15\"\n",
    "validation_end = \"2023-03-15\"\n",
    "\n",
    "test_start = \"2023-03-15\"\n",
    "test_end = \"2024-03-15\"\n",
    "\n",
    "# Download S&P 500 data\n",
    "sp500_data = yf.download(\"^GSPC\", start=validation_start, end=test_end, auto_adjust=True)\n",
    "\n",
    "# Extract validation period data\n",
    "validation_data = sp500_data.loc[validation_start:validation_end]\n",
    "validation_open = validation_data['Open'].iloc[0]\n",
    "validation_close = validation_data['Close'].iloc[-1]\n",
    "validation_growth = ((validation_close - validation_open) / validation_open) * 100\n",
    "print(validation_open, validation_close, validation_growth)\n",
    "# Extract test period data\n",
    "test_data = sp500_data.loc[test_start:test_end]\n",
    "test_open = test_data['Open'].iloc[0]\n",
    "test_close = test_data['Close'].iloc[-1]\n",
    "test_growth = ((test_close - test_open) / test_open) * 100\n",
    "'''\n",
    "# Print results\n",
    "print(\"📊 S&P 500 Performance Analysis\")\n",
    "print(f\"Validation Period ({validation_start} - {validation_end}):\")\n",
    "print(f\"   - Open: {validation_open:.2f}, Close: {validation_close:.2f}\")\n",
    "print(f\"   - Growth: {validation_growth:.2f}%\")\n",
    "\n",
    "print(f\"\\nTest Period ({test_start} - {test_end}):\")\n",
    "print(f\"   - Open: {test_open:.2f}, Close: {test_close:.2f}\")\n",
    "print(f\"   - Growth: {test_growth:.2f}%\")\n",
    "'''"
   ]
  },
  {
   "cell_type": "code",
   "execution_count": null,
   "metadata": {},
   "outputs": [],
   "source": []
  }
 ],
 "metadata": {
  "kernelspec": {
   "display_name": "Erdos-DS-2024-newsworthy",
   "language": "python",
   "name": "python3"
  },
  "language_info": {
   "codemirror_mode": {
    "name": "ipython",
    "version": 3
   },
   "file_extension": ".py",
   "mimetype": "text/x-python",
   "name": "python",
   "nbconvert_exporter": "python",
   "pygments_lexer": "ipython3",
   "version": "3.9.15"
  }
 },
 "nbformat": 4,
 "nbformat_minor": 2
}
